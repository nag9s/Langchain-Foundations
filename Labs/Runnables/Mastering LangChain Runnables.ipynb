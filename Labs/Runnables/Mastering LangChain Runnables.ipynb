{
 "cells": [
  {
   "cell_type": "markdown",
   "id": "2731205e",
   "metadata": {},
   "source": [
    "# Mastering LangChain Runnables: Modular AI Workflow Architecture\n",
    "\n",
    "\n",
    "## Overview\n",
    "This notebook provides an in-depth exploration of the Runnable interface in LangChain, demonstrating how to create flexible, composable, and efficient AI workflows. By showcasing various composition techniques and execution methods, we highlight the power of standardized component interactions.\n",
    "\n",
    "## Key Features:\n",
    "- Standardized AI component interface\n",
    "- Flexible workflow composition\n",
    "- Efficient processing strategies\n",
    "- Modular AI pipeline design\n",
    "- Advanced execution methods\n",
    "\n",
    "## Runnable Composition Strategies:\n",
    "- Sequential Runnable Chaining\n",
    "- Parallel Runnable Execution\n",
    "- Dynamic Workflow Construction\n",
    "- Async and Sync Processing\n",
    "- Stream-based Execution\n",
    "\n",
    "## Technologies Used:\n",
    "- LangChain\n",
    "- Ollama LLM\n",
    "- LCEL (LangChain Expression Language)\n",
    "- Prompt Templates\n",
    "- Runnable Interfaces\n",
    "- Batch and Stream Processing\n",
    "\n",
    "## Use Cases:\n",
    "- Complex AI workflow design\n",
    "- Modular AI pipeline construction\n",
    "- Efficient data processing\n",
    "- Flexible component integration\n",
    "- Real-time AI interactions\n",
    "\n",
    "## Comparative Runnable Execution Methods\n",
    "\n",
    "| **Execution Method** | **Characteristics**    | **Use Case**                          | **Performance**     |\n",
    "|---------------------|----------------------|---------------------------------------|---------------------|\n",
    "| Invoke              | Single input processing | Individual task execution            | Low latency         |\n",
    "| Batch               | Multiple input processing | Large dataset analysis               | High throughput     |\n",
    "| Stream              | Incremental output generation | Real-time, progressive tasks         | Low memory overhead |\n",
    "\n",
    "## Learning Objectives:\n",
    "- Understand Runnable interface fundamentals\n",
    "- Implement complex AI workflows\n",
    "- Master composition techniques\n",
    "- Explore different execution strategies\n",
    "- Create modular and reusable AI components\n",
    "\n",
    "## Key Challenges Addressed:\n",
    "- Workflow complexity management\n",
    "- Component interoperability\n",
    "- Efficient AI task processing\n",
    "- Standardized AI interaction patterns\n",
    "- Scalable AI pipeline design\n",
    "\n",
    "## Advanced Composition Techniques:\n",
    "- RunnableSequence\n",
    "- RunnableParallel\n",
    "- Dynamic Runnable Creation\n",
    "- Async Execution Support\n",
    "- Streaming Capabilities\n",
    "\n",
    "\n",
    "\n",
    "### Composition Primitives  \n",
    "LangChain provides two main composition primitives for creating Runnables:  \n",
    "\n",
    "#### 1. RunnableSequence  \n",
    "- Allows chaining multiple Runnables sequentially  \n",
    "- The output of one Runnable becomes the input for the next  \n",
    "- Can be created using the pipe operator (`|`) or explicitly with `RunnableSequence`  \n",
    "\n",
    "**Example:**  \n",
    "```python\n",
    "chain = runnable1 | runnable2  # Sequential execution\n",
    "# Output of runnable1 feeds into runnable2\n",
    "```\n",
    "\n",
    "#### 2. RunnableParallel  \n",
    "- Runs multiple Runnables concurrently with the same input  \n",
    "- Returns a dictionary with results from each Runnable  \n",
    "- Executes Runnables in parallel, significantly reducing processing time  \n",
    "\n",
    "**Example:**  \n",
    "```python\n",
    "parallel_chain = RunnableParallel({\n",
    "    \"key1\": runnable1,\n",
    "    \"key2\": runnable2\n",
    "})\n",
    "# Both runnables run concurrently with the same input\n",
    "```\n",
    "\n",
    "### Additional Composition Features  \n",
    "- Automatic type coercion (functions become `RunnableLambda`, dictionaries become `RunnableParallel`)  \n",
    "- Support for async and sync execution  \n",
    "- Optimized parallel processing using thread pools  \n",
    "\n",
    "## Reference\n",
    "For more detailed information on Runnable interfaces:\n",
    "- LangChain Documentation\n",
    "- LCEL Composition Patterns\n",
    "\n"
   ]
  },
  {
   "cell_type": "code",
   "execution_count": 7,
   "id": "865537f2",
   "metadata": {},
   "outputs": [],
   "source": [
    "#from dotenv import load_dotenv\n",
    "\n",
    "#load_dotenv('../env')"
   ]
  },
  {
   "cell_type": "code",
   "execution_count": 8,
   "id": "e5ab80d7",
   "metadata": {},
   "outputs": [],
   "source": [
    "from langchain_ollama import ChatOllama\n",
    "\n",
    "base_url = \"http://localhost:11434\"\n",
    "model = 'llama3.2:1b'\n",
    "llm = ChatOllama(\n",
    "    base_url=base_url,\n",
    "    model=model,\n",
    "    temperature=0.5,\n",
    "    num_predict=512\n",
    ")"
   ]
  },
  {
   "cell_type": "markdown",
   "id": "5efcbc7b",
   "metadata": {},
   "source": [
    "# Runnable Interface\n",
    "Runnable is a standardized interface in LangChain that enables the creation of modular, composable, and reusable AI components. It allows chaining multiple operations, where the output of one step becomes the input for the next, facilitating streamlined workflows.\n",
    "\n",
    "A chain is a sequence of Runnables connected together, enabling complex workflows by passing data through multiple processing steps. Chains can be constructed using primitives like `RunnableSequence` for sequential execution or `RunnableParallel` for concurrent execution."
   ]
  },
  {
   "cell_type": "code",
   "execution_count": 9,
   "id": "760a49d0",
   "metadata": {},
   "outputs": [
    {
     "data": {
      "text/plain": [
       "langchain_core.runnables.base.RunnableSequence"
      ]
     },
     "execution_count": 9,
     "metadata": {},
     "output_type": "execute_result"
    }
   ],
   "source": [
    "from langchain.prompts import PromptTemplate\n",
    "prompt_template = PromptTemplate(\n",
    "    input_variables=[\"topic\", \"number\"],\n",
    "    template=\"Please explain {topic} using exactly {number} detailed and distinct use cases.\"\n",
    ")\n",
    "\n",
    "chain = (\n",
    "    prompt_template \n",
    "    | llm\n",
    ")\n",
    "type(chain)\n"
   ]
  },
  {
   "cell_type": "code",
   "execution_count": 10,
   "id": "d9713129",
   "metadata": {},
   "outputs": [
    {
     "data": {
      "text/plain": [
       "PromptTemplate(input_variables=['number', 'topic'], input_types={}, partial_variables={}, template='Please explain {topic} using exactly {number} detailed and distinct use cases.')\n",
       "| ChatOllama(model='llama3.2:1b', num_predict=512, temperature=0.5, base_url='http://localhost:11434')"
      ]
     },
     "execution_count": 10,
     "metadata": {},
     "output_type": "execute_result"
    }
   ],
   "source": [
    "chain"
   ]
  },
  {
   "cell_type": "code",
   "execution_count": 11,
   "id": "8531410a",
   "metadata": {},
   "outputs": [
    {
     "name": "stdout",
     "output_type": "stream",
     "text": [
      "LangChain is a blockchain-based knowledge graph database that enables the creation of scalable, secure, and decentralized knowledge graphs. It allows users to store, query, and share knowledge in a structured and organized manner, making it an attractive solution for various applications.\n",
      "\n",
      "Here are two detailed and distinct use cases for LangChain:\n",
      "\n",
      "**Use Case 1: Knowledge Graph-based Content Recommendation**\n",
      "\n",
      "In this scenario, LangChain is used as a knowledge graph database to build a content recommendation system. The system consists of a large corpus of text data, which includes information about entities (people, organizations, locations), relationships between them, and concepts related to those entities.\n",
      "\n",
      "The LangChain database is populated with this text data, which serves as the foundation for creating a knowledge graph. The graph represents various entities, their relationships, and associated concepts, allowing users to query and retrieve relevant content based on specific criteria.\n",
      "\n",
      "For example, when a user searches for information about a particular topic or entity, the system queries the LangChain database to retrieve relevant articles, videos, or other content that are related to the searched term. This process is facilitated by the graph's ability to efficiently traverse relationships between entities and concepts, enabling accurate and personalized recommendations.\n",
      "\n",
      "**Use Case 2: Collaborative Knowledge Graph Development**\n",
      "\n",
      "In this scenario, LangChain is used as a collaborative platform for knowledge graph development among multiple users. The system allows developers to create, share, and modify knowledge graphs in real-time, making it an ideal solution for collaborative projects that require the creation of complex knowledge structures.\n",
      "\n",
      "The LangChain database serves as the underlying infrastructure for these collaborative efforts, providing a scalable and secure environment for users to store, query, and share their knowledge graphs. The system's features include:\n",
      "\n",
      "* User authentication and authorization\n",
      "* Knowledge graph editing and management\n",
      "* Collaboration tools (e.g., commenting, @mentions)\n",
      "* Data synchronization and backup\n",
      "\n",
      "For example, multiple developers can work on creating a shared knowledge graph in LangChain, which enables them to collaborate on the creation of complex relationships between entities and concepts. They can also share their graphs with each other, allowing for seamless integration and comparison of their work. The system's scalability and security features ensure that the collaborative platform remains stable and reliable even during large-scale projects.\n",
      "\n",
      "In both use cases, LangChain's ability to store, query, and manage complex knowledge structures makes it an attractive solution for various applications, from content recommendation systems to collaborative knowledge graph development platforms.\n"
     ]
    }
   ],
   "source": [
    "# Invoke the chain with input values\n",
    "response = chain.invoke({\n",
    "    \"topic\": \"langchain\", \n",
    "    \"number\": 2\n",
    "})\n",
    "\n",
    "# Print the response content\n",
    "print(response.content)"
   ]
  },
  {
   "cell_type": "code",
   "execution_count": null,
   "id": "9e0d5552",
   "metadata": {},
   "outputs": [],
   "source": []
  },
  {
   "cell_type": "markdown",
   "id": "f4e17e16",
   "metadata": {},
   "source": [
    "\n",
    "### Additional Examples of Runnable Interface Methods\n",
    "\n",
    "#### 1. Batch Processing\n",
    "The `batch_transaction_analysis` function demonstrates how to process multiple transactions simultaneously using the `batch` method of the `transaction_chain`. This is particularly useful for analyzing large datasets efficiently.\n",
    "\n",
    "#### 2. Single Invoke\n",
    "The `single_transaction_invoke` function showcases the `invoke` method, which processes a single transaction input. This is ideal for scenarios where individual transaction analysis is required.\n",
    "\n",
    "#### 3. Streaming Transaction Processing\n",
    "The `stream_transaction_processing` function illustrates the `stream` method, which processes transactions incrementally and outputs results in real-time. This is beneficial for handling high-value or time-sensitive transactions.\n"
   ]
  },
  {
   "cell_type": "markdown",
   "id": "464be842",
   "metadata": {},
   "source": [
    "## Create a prompt template for transaction analysis"
   ]
  },
  {
   "cell_type": "code",
   "execution_count": 14,
   "id": "5ea20969",
   "metadata": {},
   "outputs": [],
   "source": [
    "from langchain_core.prompts import ChatPromptTemplate\n",
    "prompt = ChatPromptTemplate.from_template(\n",
    "    \"Analyze the following payment transaction and provide insights: {transaction}\"\n",
    ")"
   ]
  },
  {
   "cell_type": "markdown",
   "id": "074939ab",
   "metadata": {},
   "source": [
    "## Define a function to process transaction details"
   ]
  },
  {
   "cell_type": "code",
   "execution_count": 15,
   "id": "74b4a2d5",
   "metadata": {},
   "outputs": [],
   "source": [
    "def process_transaction_details(transaction):\n",
    "    \"\"\"\n",
    "    Simulate additional transaction processing logic\n",
    "    In a real-world scenario, this might involve:\n",
    "    - Fraud detection checks\n",
    "    - Compliance verification\n",
    "    - Additional metadata enrichment\n",
    "    \"\"\"\n",
    "    return f\"Processed transaction: {transaction}\""
   ]
  },
  {
   "cell_type": "markdown",
   "id": "d4bf14ff",
   "metadata": {},
   "source": [
    "## Construct the processing chain\n",
    "The processing chain is constructed by combining multiple Runnables sequentially. The `transaction_chain` is built using the following components:\n",
    "\n",
    "1. **Prompt Template (`prompt`)**: This defines the structure of the input prompt for analyzing transactions. It ensures that the input transaction details are formatted appropriately for the LLM.\n",
    "\n",
    "2. **LLM (`llm`)**: The language model processes the formatted prompt and generates insights or analysis based on the transaction details.\n",
    "\n",
    "3. **Processing Function (`process_transaction_details`)**: This function applies additional logic to the LLM's output, such as simulating fraud detection, compliance checks, or metadata enrichment.\n",
    "\n",
    "The chain is created using the pipe operator (`|`), which sequentially connects these components. The output of one component becomes the input for the next, enabling streamlined and modular processing of transaction data.\n"
   ]
  },
  {
   "cell_type": "code",
   "execution_count": 16,
   "id": "ffbcc7ba",
   "metadata": {},
   "outputs": [],
   "source": [
    "transaction_chain = (\n",
    "    prompt |  # Apply the prompt template\n",
    "    llm |  # Generate analysis using LLM\n",
    "    process_transaction_details  # Additional processing\n",
    ")"
   ]
  },
  {
   "cell_type": "code",
   "execution_count": 17,
   "id": "a5b77f10",
   "metadata": {},
   "outputs": [
    {
     "data": {
      "text/plain": [
       "ChatPromptTemplate(input_variables=['transaction'], input_types={}, partial_variables={}, messages=[HumanMessagePromptTemplate(prompt=PromptTemplate(input_variables=['transaction'], input_types={}, partial_variables={}, template='Analyze the following payment transaction and provide insights: {transaction}'), additional_kwargs={})])\n",
       "| ChatOllama(model='llama3.2:1b', num_predict=512, temperature=0.5, base_url='http://localhost:11434')\n",
       "| RunnableLambda(process_transaction_details)"
      ]
     },
     "execution_count": 17,
     "metadata": {},
     "output_type": "execute_result"
    }
   ],
   "source": [
    "transaction_chain"
   ]
  },
  {
   "cell_type": "markdown",
   "id": "ee40ab11",
   "metadata": {},
   "source": [
    "## Demonstration of different Runnable Interface methods"
   ]
  },
  {
   "cell_type": "markdown",
   "id": "902ddac2",
   "metadata": {},
   "source": [
    "### 1. Batch Processing\n",
    "The `batch_transaction_analysis` function demonstrates how to process multiple transactions simultaneously using the `batch` method of the `transaction_chain`. This method is particularly useful for analyzing large datasets efficiently. The function takes a list of transactions, processes them in a batch, and prints the analysis results for each transaction.\n"
   ]
  },
  {
   "cell_type": "code",
   "execution_count": 18,
   "id": "f02ab6c2",
   "metadata": {},
   "outputs": [],
   "source": [
    "def batch_transaction_analysis():\n",
    "    print(\"--- Batch Processing Transactions ---\")\n",
    "    transactions = [\n",
    "        \"Credit card payment of $500 from customer ABC\",\n",
    "        \"International wire transfer of $10,000\",\n",
    "        \"Recurring subscription payment of $49.99\"\n",
    "    ]\n",
    "    \n",
    "    # Batch process multiple transactions\n",
    "    batch_results = transaction_chain.batch(transactions)\n",
    "    \n",
    "    for i, result in enumerate(batch_results, 1):\n",
    "        print(f\"Transaction {i} Analysis: {result}\")"
   ]
  },
  {
   "cell_type": "markdown",
   "id": "fe3cc3fb",
   "metadata": {},
   "source": [
    "### 2. Single Invoke\n",
    "The `single_transaction_invoke` function demonstrates the `invoke` method of the `transaction_chain`. This method processes a single transaction input and generates an analysis result. It is particularly useful for scenarios where individual transaction analysis is required. The function takes a single transaction as input, invokes the chain, and prints the resulting analysis.\n"
   ]
  },
  {
   "cell_type": "code",
   "execution_count": 19,
   "id": "4913990e",
   "metadata": {},
   "outputs": [],
   "source": [
    "def single_transaction_invoke():\n",
    "    print(\"\\n--- Single Transaction Invoke ---\")\n",
    "    transaction = \"Refund processing for order #12345\"\n",
    "    \n",
    "    # Invoke the chain for a single transaction\n",
    "    result = transaction_chain.invoke(transaction)\n",
    "    print(\"Transaction Analysis:\", result)"
   ]
  },
  {
   "cell_type": "markdown",
   "id": "f6f9d9ee",
   "metadata": {},
   "source": [
    "### 3. Streaming Transaction Processing\n",
    "The `stream_transaction_processing` function demonstrates the `stream` method of the `transaction_chain`. This method processes a transaction incrementally and outputs results in real-time. It is particularly useful for handling high-value or time-sensitive transactions. The function takes a single transaction as input, streams the analysis results chunk by chunk, and prints them as they are generated."
   ]
  },
  {
   "cell_type": "code",
   "execution_count": 20,
   "id": "e3565aa6",
   "metadata": {},
   "outputs": [],
   "source": [
    "def stream_transaction_processing():\n",
    "    print(\"\\n--- Streaming Transaction Processing ---\")\n",
    "    transaction = \"High-value international payment of $250,000\"\n",
    "    \n",
    "    print(\"Streaming analysis for transaction:\")\n",
    "    for chunk in transaction_chain.stream(transaction):\n",
    "        print(chunk, end=\"\", flush=True)\n",
    "    print()  # New line after streaming"
   ]
  },
  {
   "cell_type": "code",
   "execution_count": 21,
   "id": "02350892",
   "metadata": {},
   "outputs": [
    {
     "name": "stdout",
     "output_type": "stream",
     "text": [
      "=== Batch Transaction Analysis ===\n",
      "--- Batch Processing Transactions ---\n",
      "Transaction 1 Analysis: Processed transaction: content='I\\'ll analyze the payment transaction for you.\\n\\n**Transaction Details:**\\n\\n* Payment Method: Credit Card\\n* Payment Amount: $500\\n* Customer Name: ABC (assuming this is the customer\\'s name, but it could be a pseudonym or alias)\\n* Date: [Insert Date]\\n* Time: [Insert Time]\\n\\n**Insights:**\\n\\n1. **Payment Success:** The transaction was successful and the payment amount of $500 was processed successfully.\\n2. **Customer Information:** The customer\\'s information is publicly available (ABC), but it may not be accurate or up-to-date. It\\'s essential to verify this information through additional means, such as contacting the customer directly or using credit card verification services.\\n3. **Payment Method:** Credit cards are a common payment method, and they offer convenience and flexibility. However, they also come with associated risks, such as potential fraud or chargeback issues.\\n4. **Transaction Type:** This is likely an online transaction, given the use of a credit card to pay for goods or services.\\n5. **Payment Status:** The transaction was marked as \"success\" after processing, which indicates that the payment was completed successfully.\\n\\n**Red Flags:**\\n\\n1. **Lack of Personalization:** The customer\\'s name and address information are publicly available, but they may not be accurate or up-to-date. This could indicate a potential issue with the customer\\'s identity or creditworthiness.\\n2. **No Verification:** There is no indication that the payment was verified against any external sources, such as the customer\\'s bank account or credit card issuer.\\n\\n**Opportunities for Improvement:**\\n\\n1. **Verify Customer Information:** Verify the customer\\'s information through additional means to ensure accuracy and up-to-date status.\\n2. **Implement Additional Security Measures:** Consider implementing additional security measures, such as two-factor authentication or encryption, to protect against potential fraud or chargeback issues.\\n3. **Monitor Payment Activity:** Regularly monitor payment activity for suspicious transactions or unusual patterns that may indicate potential issues with the customer\\'s account.\\n\\n**Conclusion:**\\n\\nThis analysis provides a basic overview of the credit card payment transaction involving customer ABC. While the transaction was successful, there are several red flags and opportunities for improvement to ensure the security and integrity of the payment system.' additional_kwargs={} response_metadata={'model': 'llama3.2:1b', 'created_at': '2025-03-31T02:10:00.485092655Z', 'done': True, 'done_reason': 'stop', 'total_duration': 109678544906, 'load_duration': 91514452, 'prompt_eval_count': 44, 'prompt_eval_duration': 961298766, 'eval_count': 459, 'eval_duration': 108624758793, 'message': Message(role='assistant', content='', images=None, tool_calls=None)} id='run-e06a1900-cfd8-4c77-a4f6-8e40a81cc01a-0' usage_metadata={'input_tokens': 44, 'output_tokens': 459, 'total_tokens': 503}\n",
      "Transaction 2 Analysis: Processed transaction: content='I can provide you with an analysis of a payment transaction involving an international wire transfer of $10,000.\\n\\n**Transaction Details:**\\n\\n* Destination country: United States\\n* Source country: [Unknown/Non-Party]\\n* Payment amount: $10,000\\n* Currency: US Dollars (USD)\\n* Payment method: International Wire Transfer\\n\\n**Insights and Observations:**\\n\\n1. **High-value transaction:** The payment of $10,000 is a high-value transaction that may indicate significant financial activity or a large-scale business deal.\\n2. **International transfer:** The fact that the payment is being made internationally suggests that the recipient is located outside of the source country, possibly in another region or continent.\\n3. **Wire transfer method:** International wire transfers are typically used for cross-border transactions, such as buying or selling goods, services, or investments.\\n4. **Security measures:** Most international wire transfers involve some level of security and verification to ensure that the funds are being transferred correctly and that the recipient is who they claim to be.\\n5. **Risk assessment:** The high-value nature of this transaction may increase the risk associated with it, particularly if there are any potential red flags or suspicious activity.\\n\\n**Red Flags:**\\n\\n1. **Unusual payment amount:** A payment of $10,000 is unusually large for a business-to-business (B2B) transaction, and may raise concerns about the nature of the business relationship.\\n2. **Lack of information:** The source country and recipient details are not provided, which may indicate that there is no clear business relationship or that the parties involved are not transparent about their identities.\\n3. **No invoice or receipt:** There is no mention of an invoice or receipt for the payment, which may suggest that the transaction is not a standard business-to-business exchange.\\n\\n**Opportunities and Considerations:**\\n\\n1. **Business development:** This high-value international wire transfer could be part of a larger business development effort, such as expanding into new markets or establishing new relationships.\\n2. **Cross-border trade:** The transaction may involve cross-border trade, which can provide opportunities for businesses to access new markets, customers, and suppliers.\\n3. **Risk management:** Businesses should carefully assess the risks associated with international transactions, including currency exchange rates, regulatory compliance, and potential security threats.\\n\\n**Conclusion:**\\n\\nThe $10,000 international wire transfer of $10,000 is a significant transaction that warrants further investigation to understand its nature and implications. While it may be part of a legitimate business development' additional_kwargs={} response_metadata={'model': 'llama3.2:1b', 'created_at': '2025-03-31T02:10:08.878402118Z', 'done': True, 'done_reason': 'length', 'total_duration': 118079026177, 'load_duration': 97088860, 'prompt_eval_count': 43, 'prompt_eval_duration': 3945927949, 'eval_count': 512, 'eval_duration': 114033841435, 'message': Message(role='assistant', content='', images=None, tool_calls=None)} id='run-2487eb2e-076e-47ac-b686-ad1fdd91f796-0' usage_metadata={'input_tokens': 43, 'output_tokens': 512, 'total_tokens': 555}\n",
      "Transaction 3 Analysis: Processed transaction: content=\"Here's an analysis of a recurring subscription payment of $49.99:\\n\\n**Transaction Details**\\n\\n* Payment Method: Credit/Debit Card (e.g., Visa, Mastercard)\\n* Transaction Date: [Insert Date]\\n* Transaction Time: [Insert Time]\\n* Amount Paid: $49.99\\n* Currency: USD (United States Dollar)\\n\\n**Insights**\\n\\n1. **Recurring Subscription**: This transaction is a recurring subscription payment, which means the customer will be charged automatically on a regular basis (e.g., monthly, quarterly) until they cancel or make a new payment.\\n2. **Monthly Recurring Payment**: The $49.99 amount is a typical monthly recurring payment for software, music streaming services, or other subscription-based products.\\n3. **Customer Type**: Based on the payment amount and frequency, it's likely that this customer is an individual who values convenience and affordability. They may be a small business owner, entrepreneur, or individual with a moderate income.\\n4. **Payment Frequency**: The $49.99 payment is made every month, indicating a predictable and reliable revenue stream for the merchant.\\n5. **No Prepayment**: There's no indication that the customer has prepaid for this subscription or has made any prior payments.\\n6. **Low Payment Amount**: At $49.99, this transaction is relatively small compared to other recurring payment transactions. This may indicate that the customer is not a high-value customer or is not committed to making large purchases.\\n7. **No Refunds or Cancellations**: There's no indication in this transaction that the customer has requested a refund or cancellation of their subscription.\\n\\n**Risk and Opportunity**\\n\\nBased on these insights, here are some potential risks and opportunities:\\n\\n* Risk:\\n\\t+ Customer may cancel their subscription at any time without notice.\\n\\t+ Merchant may experience payment failures or disputes due to customer errors or changes in payment methods.\\n* Opportunity:\\n\\t+ Merchant can leverage this recurring payment transaction to build a loyal customer base by offering high-quality products or services that meet their needs.\\n\\t+ Merchants can also use this data to improve their marketing efforts and target specific customer segments.\\n\\n**Recommendations**\\n\\n1. **Monitor Customer Activity**: Keep an eye on customer activity, including subscription status changes, payment attempts, and cancellations.\\n2. **Implement Payment Verification**: Verify the customer's payment method and ensure that they have sufficient funds to cover recurring payments.\\n3. **Offer Refund or Cancellation Options**: Provide customers with clear refund or cancellation options to manage their subscriptions.\\n4\" additional_kwargs={} response_metadata={'model': 'llama3.2:1b', 'created_at': '2025-03-31T02:10:08.878493063Z', 'done': True, 'done_reason': 'length', 'total_duration': 118077121379, 'load_duration': 106992993, 'prompt_eval_count': 44, 'prompt_eval_duration': 3936250268, 'eval_count': 512, 'eval_duration': 114032209262, 'message': Message(role='assistant', content='', images=None, tool_calls=None)} id='run-5a0140ca-1703-457b-8d0c-d24c10d87c4e-0' usage_metadata={'input_tokens': 44, 'output_tokens': 512, 'total_tokens': 556}\n",
      "\n",
      "=== Single Transaction Invoke ===\n",
      "\n",
      "--- Single Transaction Invoke ---\n",
      "Transaction Analysis: Processed transaction: content='I can provide a general analysis of the payment transaction, but I don\\'t have access to specific financial or banking systems. However, I can offer some insights based on common practices and potential red flags.\\n\\n**Transaction Details:**\\n\\n* Order #12345\\n* Type: Refund\\n* Date: [Insert Date]\\n\\n**Analytical Insights:**\\n\\n1. **Refund Processing Status:** The refund processing status is likely to be \"in progress\" or \"pending\" as refunds are typically processed after the customer requests a refund.\\n2. **Refund Reason Code:** If available, the reason code for the refund (e.g., \"customer cancellation,\" \"payment method issue\") can provide insight into the reason for the refund.\\n3. **Refund Amount:** The amount of the refund is not specified, but it\\'s likely to be a portion of the original order total.\\n4. **Refund Currency:** Is the refund being processed in the customer\\'s local currency (e.g., USD, EUR) or in the company\\'s default currency?\\n5. **Refund Method:** Was the refund made through a direct payment method (e.g., credit card, bank transfer), or was it through an indirect method (e.g., PayPal, gift cards)?\\n6. **Timeframe for Refund Processing:** The timeframe for processing refunds can vary depending on the company\\'s policies and systems. Some companies may process refunds immediately, while others may take several days or weeks.\\n7. **Red Flags:**\\n\\t* If the refund is being processed too quickly (e.g., within a few hours), it may indicate that there are issues with the customer\\'s account or payment method.\\n\\t* If the refund amount is significantly lower than the original order total, it could indicate that the company is offering a discount or promotion for refunds.\\n\\t* If the refund reason code indicates a recurring issue (e.g., \"payment method issue,\" \"customer cancellation\"), it may suggest that there are ongoing problems with customer behavior or payment methods.\\n\\n**Potential Cause:**\\n\\nBased on these insights, some potential causes of the refund processing status could be:\\n\\n* Customer dispute or complaint\\n* Payment method issues\\n* Recurring issues with customer behavior (e.g., multiple cancellations)\\n* Technical glitches or system errors\\n\\n**Next Steps:**\\n\\nTo further investigate the refund processing status, you may want to:\\n\\n1. Check the company\\'s refund policy and procedures.\\n2. Review the order details and transaction history for any potential discrepancies.\\n3. Contact the customer support team to ask about' additional_kwargs={} response_metadata={'model': 'llama3.2:1b', 'created_at': '2025-03-31T02:11:05.001452431Z', 'done': True, 'done_reason': 'length', 'total_duration': 56116703962, 'load_duration': 20869490, 'prompt_eval_count': 43, 'prompt_eval_duration': 647949240, 'eval_count': 512, 'eval_duration': 55447339311, 'message': Message(role='assistant', content='', images=None, tool_calls=None)} id='run-5f09acf2-d52b-4858-8a88-3c21f39e84ca-0' usage_metadata={'input_tokens': 43, 'output_tokens': 512, 'total_tokens': 555}\n",
      "\n",
      "=== Streaming Transaction Processing ===\n",
      "\n",
      "--- Streaming Transaction Processing ---\n",
      "Streaming analysis for transaction:\n",
      "Processed transaction: content='I can provide an analysis of a high-value international payment of $250,000.\\n\\n**Transaction Overview**\\n\\nA high-value international payment of $250,000 was made between two parties, typically referred to as the \"sender\" and the \"receiver.\" This type of transaction is often associated with cross-border commerce, finance, or trade.\\n\\n**Key Factors**\\n\\n1. **Value**: The largest amount ever transferred in a single transaction.\\n2. **Location**: Originated from the United States (or another country with high US dollar reserves) and received in another country with lower currency exchange rates.\\n3. **Method of Transfer**: Typically involves wire transfers, which are considered secure but may be subject to regulatory scrutiny.\\n\\n**Insights**\\n\\n1. **Risk Assessment**: The transaction carries a higher risk due to the potential for:\\n\\t* Currency exchange rate fluctuations\\n\\t* Regulatory compliance issues (e.g., anti-money laundering (AML) and know-your-customer (KYC) requirements)\\n\\t* Cross-border transfer risks (e.g., wire transfer failures, delayed payments)\\n2. **Compliance**: The sender must ensure that the transaction complies with relevant laws and regulations, including:\\n\\t* Anti-Money Laundering (AML) regulations\\n\\t* Foreign Account Tax Compliance Act (FATCA)\\n\\t* Other local and international tax requirements\\n3. **Security**: To mitigate risks, the sender should consider using:\\n\\t* Secure payment processors or transfer agents\\n\\t* Multi-signature transactions or other security measures\\n\\t* Regular monitoring of the transaction to detect any suspicious activity\\n4. **Reporting Requirements**: The sender may need to report the transaction to relevant authorities, including:\\n\\t* Financial institutions (e.g., banks)\\n\\t* Tax authorities (e.g., IRS in the US)\\n5. **Alternative Options**: Depending on the specific circumstances, alternative payment methods or arrangements might be considered, such as:\\n\\t* Cash or letter of credit\\n\\t* Specialized financial instruments (e.g., certificates of deposit, treasury bills)\\n\\n**Best Practices**\\n\\n1. Conduct thorough risk assessments and due diligence on both parties involved.\\n2. Ensure compliance with relevant laws and regulations.\\n3. Use secure payment processors and transfer agents.\\n4. Implement robust monitoring systems to detect suspicious activity.\\n5. Regularly review and update AML/KYC policies and procedures.\\n\\nBy understanding the key factors, insights, and best practices associated with high-value international payments, businesses can better navigate these transactions while minimizing risks and ensuring compliance with regulatory requirements.' additional_kwargs={} response_metadata={'model': 'llama3.2:1b', 'created_at': '2025-03-31T02:12:00.475881119Z', 'done': True, 'done_reason': 'stop', 'total_duration': 55468768776, 'load_duration': 18918039, 'prompt_eval_count': 44, 'prompt_eval_duration': 645077642, 'eval_count': 510, 'eval_duration': 54804111747, 'message': Message(role='assistant', content='', images=None, tool_calls=None)} id='run-2f7eaef2-7723-44e9-8e4e-0f9944e3ab6e' usage_metadata={'input_tokens': 44, 'output_tokens': 510, 'total_tokens': 554}\n"
     ]
    }
   ],
   "source": [
    "\n",
    "if __name__ == \"__main__\":\n",
    "    print(\"=== Batch Transaction Analysis ===\")\n",
    "    batch_transaction_analysis()\n",
    "\n",
    "    print(\"\\n=== Single Transaction Invoke ===\")\n",
    "    single_transaction_invoke()\n",
    "\n",
    "    print(\"\\n=== Streaming Transaction Processing ===\")\n",
    "    stream_transaction_processing()"
   ]
  },
  {
   "cell_type": "markdown",
   "id": "780fbc05",
   "metadata": {},
   "source": [
    "# Runnable Sequences\n",
    "\n",
    "**Runnable Sequences**  \n",
    "- A `RunnableSequence` is a pipeline that chains multiple operations, where the output of one step becomes the input for the next.  \n",
    "- It is used to create workflows for tasks like text analysis, generation, or transformation.\n",
    "\n",
    "**Activities in This Notebook**  \n",
    "- **Model Initialization**: `ChatOllama` model is initialized with parameters like base URL, model name, and temperature.  \n",
    "- **Prompt Template Creation**: A `ChatPromptTemplate` is defined for analyzing payment transaction details.  \n",
    "- **Runnable Sequence Definition**: A sequence is created to format the prompt, process it with the model, and parse the output.  \n",
    "- **Transaction Analysis**: A function is implemented to analyze transactions and print risk assessments and fraud indicators.\n"
   ]
  },
  {
   "cell_type": "code",
   "execution_count": 22,
   "id": "b9b1bde1",
   "metadata": {},
   "outputs": [],
   "source": [
    "# from dotenv import load_dotenv\n",
    "\n",
    "# load_dotenv('../env')"
   ]
  },
  {
   "cell_type": "code",
   "execution_count": 23,
   "id": "50c8ca30",
   "metadata": {},
   "outputs": [],
   "source": [
    "from langchain_ollama import ChatOllama\n",
    "\n",
    "base_url = \"http://localhost:11434\"\n",
    "model = 'llama3.2:1b'\n",
    "# Initialize the Llama model \n",
    "llm = ChatOllama(\n",
    "    base_url=base_url,\n",
    "    model = model,\n",
    "    temperature = 0.8,\n",
    "    num_predict = 256\n",
    ")"
   ]
  },
  {
   "cell_type": "code",
   "execution_count": 24,
   "id": "95ec0888",
   "metadata": {},
   "outputs": [
    {
     "name": "stdout",
     "output_type": "stream",
     "text": [
      "Transaction Analysis:\n",
      "**Payment Transaction Details Analysis**\n",
      "\n",
      "### Transaction Overview\n",
      "\n",
      "* **Transaction Amount:** $1,250.75 (indicative of a significant purchase)\n",
      "* **Merchant:** TechCorp Online Store (established reputation for legitimate business practices)\n",
      "\n",
      "### Risk Assessment\n",
      "\n",
      "Based on the provided transaction details, I have identified potential risk indicators that may indicate fraudulent activity:\n",
      "\n",
      "**Risk Factors:**\n",
      "\n",
      "1. **High Transaction Amount**: The $1,250.75 transaction amount is significantly higher than average e-commerce purchases.\n",
      "2. **Merchant Reputation**: TechCorp Online Store has an established reputation for legitimate business practices. However, without further information on the merchant's financials or compliance history, it cannot be confirmed whether this is a genuine business operation.\n",
      "3. **Lack of Addressed Information**: The transaction does not include any information about the customer's address, phone number, or other sensitive details that could provide context to the transaction.\n",
      "\n",
      "**Potential Fraud Indicators:**\n",
      "\n",
      "1. **Incomplete or Suspicious Customer Data**: The lack of detailed customer information raises concerns about potential identity theft or misuse.\n",
      "2. **Unusual Transaction Behavior**: The high transaction amount and lack of addressed information may suggest that the customer is attempting to circumvent standard payment processing procedures.\n",
      "3. **Merchant-Specific Scams**:\n"
     ]
    }
   ],
   "source": [
    "from langchain_core.prompts import ChatPromptTemplate\n",
    "from langchain_core.output_parsers import StrOutputParser\n",
    "from langchain_core.runnables import RunnableSequence\n",
    "\n",
    "\n",
    "\n",
    "# Create a prompt template for financial transaction analysis\n",
    "transaction_analysis_prompt = ChatPromptTemplate.from_template(\n",
    "    \"\"\"Analyze the following payment transaction details:\n",
    "    - Transaction Amount: {amount}\n",
    "    - Merchant: {merchant}\n",
    "    - Transaction Type: {transaction_type}\n",
    "\n",
    "    Provide a detailed risk assessment and potential fraud indicators.\"\"\"\n",
    ")\n",
    "\n",
    "# Create a RunnableSequence to process the transaction\n",
    "transaction_analysis_chain = (\n",
    "    transaction_analysis_prompt  # First, format the prompt\n",
    "    | llm  # Then, pass to the Llama model for analysis\n",
    "    | StrOutputParser()  # Convert the model output to a string\n",
    ")\n",
    "\n",
    "# Example usage\n",
    "def analyze_transaction(amount, merchant, transaction_type):\n",
    "    result = transaction_analysis_chain.invoke({\n",
    "        \"amount\": amount,\n",
    "        \"merchant\": merchant,\n",
    "        \"transaction_type\": transaction_type\n",
    "    })\n",
    "    return result\n",
    "\n",
    "# Demonstrate the chain\n",
    "transaction_result = analyze_transaction(\n",
    "    amount=\"$1,250.75\", \n",
    "    merchant=\"TechCorp Online Store\", \n",
    "    transaction_type=\"E-commerce Purchase\"\n",
    ")\n",
    "\n",
    "print(\"Transaction Analysis:\")\n",
    "print(transaction_result)\n"
   ]
  },
  {
   "cell_type": "markdown",
   "id": "1a846aa1",
   "metadata": {},
   "source": [
    "# RunnableParallel\n",
    "\n",
    "\n",
    "`RunnableParallel` is a utility in LangChain that allows us to execute multiple tasks or chains in parallel. It is particularly useful when you need to perform independent operations simultaneously, such as validation, fraud detection, and compliance checks, as seen in this notebook.\n",
    "\n",
    "### Tasks in This Notebook\n",
    "\n",
    "1. **Validation**: A simple validation function will check the payment information to ensure the payment amount is valid.\n",
    "2. **Fraud Detection**: Using a language model, the notebook will analyze payment transactions for potential fraud risks and provide a detailed assessment in JSON format.\n",
    "3. **Compliance Check**: The notebook will perform a compliance check on payment transactions, listing any potential compliance concerns in a comma-separated format.\n",
    "4. **Payment Processing Chain**: All the above tasks will be executed in parallel using `RunnableParallel`, and the results will be aggregated for further analysis.\n"
   ]
  },
  {
   "cell_type": "code",
   "execution_count": 25,
   "id": "23abbc01",
   "metadata": {},
   "outputs": [],
   "source": [
    "# from dotenv import load_dotenv\n",
    "\n",
    "# load_dotenv('../env')"
   ]
  },
  {
   "cell_type": "code",
   "execution_count": 28,
   "id": "bc48f4e4",
   "metadata": {},
   "outputs": [],
   "source": [
    "from langchain_ollama import ChatOllama\n",
    "\n",
    "base_url = \"http://localhost:11434\"\n",
    "model = 'llama3.2:3b'\n",
    "llm = ChatOllama(\n",
    "    base_url=base_url,\n",
    "    model = model,\n",
    "    temperature = 0.8,\n",
    "    num_predict = 256\n",
    ")"
   ]
  },
  {
   "cell_type": "code",
   "execution_count": 29,
   "id": "4ee4d996",
   "metadata": {},
   "outputs": [
    {
     "name": "stdout",
     "output_type": "stream",
     "text": [
      "Payment Processing Results:\n",
      "Validation: Validation Passed\n",
      "Fraud Detection: {'risk_level': 'high', 'reasoning': 'Transaction amount exceeds 3x average daily spend for Global Tech Solutions ($1500). Card type Corporate Credit Card is used by high-value purchasing accounts. Additionally, IP address is flagged as suspicious due to recent spikes in malicious activity.'}\n",
      "Compliance Check: ['US Bank Account', 'Anti-Money Laundering (AML) reporting required', 'High Transaction Value exceeds $5', '000 threshold', 'Global Tech Solutions listed as High Risk Merchant in Country Profile.', 'Note: Please note that this is a hypothetical compliance check and actual compliance concerns may vary depending on the specific payment processor', 'merchant', 'and transaction details.']\n"
     ]
    }
   ],
   "source": [
    "from langchain_core.prompts import ChatPromptTemplate\n",
    "from langchain_core.runnables import RunnableLambda, RunnableParallel\n",
    "from langchain.output_parsers import (\n",
    "    CommaSeparatedListOutputParser, \n",
    "    StructuredOutputParser, \n",
    "    ResponseSchema\n",
    ")\n",
    "\n",
    "# Create output parsers\n",
    "fraud_detection_parser = StructuredOutputParser.from_response_schemas([\n",
    "    ResponseSchema(\n",
    "        name=\"risk_level\", \n",
    "        description=\"Fraud risk level (low/medium/high)\"\n",
    "    ),\n",
    "    ResponseSchema(\n",
    "        name=\"reasoning\", \n",
    "        description=\"Brief explanation of fraud risk assessment\"\n",
    "    )\n",
    "])\n",
    "\n",
    "compliance_check_parser = CommaSeparatedListOutputParser()\n",
    "\n",
    "# Modify prompts to include format instructions\n",
    "fraud_detection_prompt = ChatPromptTemplate.from_template(\n",
    "    \"Analyze the payment transaction for fraud risk:\\n\"\n",
    "    \"Amount: ${amount}\\n\"\n",
    "    \"Merchant: {merchant}\\n\"\n",
    "    \"Card Type: {card_type}\\n\\n\"\n",
    "    \"Provide a detailed fraud assessment in STRICT JSON format. Details need not be accurate. IMPORTANT: Ensure the output is a valid JSON object with EXACTLY these keys:\\n\"\n",
    "    \"{format_instructions}\\n\"\n",
    "    \"EXAMPLE FORMAT: {{\\n\"\n",
    "    \"  \\\"risk_level\\\": \\\"low\\\",\\n\"\n",
    "    \"  \\\"reasoning\\\": \\\"Detailed explanation here\\\"\\n\"\n",
    "    \"}}\"\n",
    ").partial(format_instructions=fraud_detection_parser.get_format_instructions())\n",
    "\n",
    "compliance_check_prompt = ChatPromptTemplate.from_template(\n",
    "    \"Perform a compliance check on this payment transaction. \"\n",
    "    \"Payment amount: ${amount}, Merchant: {merchant}, Country: {country}\\n\"\n",
    "    \"List any compliance concerns. Details need not be accurate. Respond in a comma-separated list:\\n\"\n",
    "    \"{format_instructions}\"\n",
    ").partial(format_instructions=compliance_check_parser.get_format_instructions())\n",
    "\n",
    "# Validation function using a simple string output parser\n",
    "def validate_payment(payment_info):\n",
    "    if payment_info['amount'] <= 0:\n",
    "        return \"Validation Failed: Invalid payment amount\"\n",
    "    return \"Validation Passed\"\n",
    "\n",
    "# Payment processing chain using RunnableParallel\n",
    "payment_processing_chain = RunnableParallel({\n",
    "    # Validation step\n",
    "    \"validation\": RunnableLambda(validate_payment)\n",
    "    ,\n",
    "    \n",
    "    # Fraud detection using LLM with output parser\n",
    "     \"fraud_detection\": fraud_detection_prompt | llm | fraud_detection_parser\n",
    "    ,\n",
    "\n",
    "    # Compliance check using LLM with output parser\n",
    "     \"compliance_check\": compliance_check_prompt | llm | compliance_check_parser\n",
    "})\n",
    "\n",
    "# Example usage\n",
    "payment_info = {\n",
    "    \"amount\": 5000,\n",
    "    \"merchant\": \"Global Tech Solutions\",\n",
    "    \"card_type\": \"Corporate Credit Card\",\n",
    "    \"country\": \"United States\"\n",
    "}\n",
    "\n",
    "# Invoke the chain\n",
    "result = payment_processing_chain.invoke(payment_info)\n",
    "print(\"Payment Processing Results:\")\n",
    "for key, value in result.items():\n",
    "    print(f\"{key.replace('_', ' ').title()}: {value}\")\n"
   ]
  }
 ],
 "metadata": {
  "kernelspec": {
   "display_name": "Python 3",
   "language": "python",
   "name": "python3"
  },
  "language_info": {
   "codemirror_mode": {
    "name": "ipython",
    "version": 3
   },
   "file_extension": ".py",
   "mimetype": "text/x-python",
   "name": "python",
   "nbconvert_exporter": "python",
   "pygments_lexer": "ipython3",
   "version": "3.12.4"
  }
 },
 "nbformat": 4,
 "nbformat_minor": 5
}
