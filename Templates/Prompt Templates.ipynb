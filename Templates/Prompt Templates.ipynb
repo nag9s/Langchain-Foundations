{
 "cells": [
  {
   "cell_type": "markdown",
   "metadata": {},
   "source": [
    "# Prompt Templates\n",
    "Prompt Templates are a powerful way to define reusable and parameterized prompts for language models. They allow you to create dynamic prompts by using placeholders that can be replaced with specific values at runtime. This approach simplifies the process of generating customized prompts for various use cases.\n",
    "\n",
    "In contrast, Langchain Chat Prompt Templates are specifically designed for multi-turn conversations. They allow you to define structured prompts that include both system and user messages, making them ideal for chat-based interactions. While Prompt Templates focus on single-turn prompts with placeholders, Chat Prompt Templates provide additional flexibility for managing conversational context.\n",
    "\n",
    "Below, we discuss two methods to work with Prompt Templates:\n",
    "1. Using the `from_template()` method for quick and convenient creation of templates.\n",
    "2. Creating a `PromptTemplate` object explicitly with input variables for more customization.\n",
    "\n",
    "Key Characteristics of PromptTemplate\n",
    "- Works with a single string template  \n",
    "- Uses simple `{variable}` placeholders  \n",
    "- Best for straightforward, single-message prompts  \n",
    "- Outputs a single formatted string  "
   ]
  },
  {
   "cell_type": "code",
   "execution_count": 1,
   "metadata": {},
   "outputs": [],
   "source": [
    "from langchain_ollama import ChatOllama\n",
    "\n",
    "base_url = \"http://localhost:11434\"\n",
    "model = 'llama3.2:1b'\n",
    "llm = ChatOllama(\n",
    "    base_url=base_url,\n",
    "    model=model,\n",
    "    temperature=0.5,\n",
    "    num_predict=512\n",
    "    #timeout=None,\n",
    "    # max_retries=2,\n",
    "    # api_key=\"...\",  # if you prefer to pass api key in directly instaed of using env vars\n",
    "   \n",
    ")\n",
    "\n",
    "# 'Please explain {topic} using exactly {number} detailed and distinct use cases.'\n",
    "# response = llm.invoke('Please explain langchain using exactly 5 detailed and distinct use cases.')\n",
    "\n",
    "#print(response.content)"
   ]
  },
  {
   "cell_type": "markdown",
   "metadata": {},
   "source": [
    "## Method 1 : Using the from_template() method\n",
    "The `from_template()` method is used to create a `PromptTemplate` object by providing a template string with placeholders. In this case, the placeholders `{topic}` and `{number}` are defined in the template string. These placeholders can later be replaced with actual values using the `invoke()` method.\n",
    "\n",
    "The created `PromptTemplate` object allows for dynamic formatting of prompts by substituting the placeholders with specific values. This is particularly useful for generating customized prompts for language models.\n",
    "\n",
    "For example:\n",
    "- The template string `\"Please explain {topic} using exactly {number} detailed and distinct use cases.\"` is passed to `from_template()`.\n",
    "- The resulting `PromptTemplate` object can then be used to generate a formatted prompt by providing values for `topic` and `number`.\n",
    "\n",
    "This approach simplifies the process of creating reusable and parameterized prompts."
   ]
  },
  {
   "cell_type": "code",
   "execution_count": 4,
   "metadata": {},
   "outputs": [
    {
     "name": "stdout",
     "output_type": "stream",
     "text": [
      "text='Please explain langchain using exactly 5 detailed and distinct use cases.'\n"
     ]
    }
   ],
   "source": [
    "from langchain_core.prompts import PromptTemplate\n",
    "\n",
    "# Import the PromptTemplate class from langchain_core.prompts\n",
    "\n",
    "# Create a prompt template with placeholders for topic and number\n",
    "prompt_template = PromptTemplate.from_template(\"Please explain {topic} using exactly {number} detailed and distinct use cases.\")\n",
    "\n",
    "# Format the prompt by providing values for the placeholders\n",
    "formatted_prompt = prompt_template.invoke({\"topic\": \"langchain\", \"number\": 5})\n",
    "\n",
    "# Print the formatted prompt\n",
    "print(formatted_prompt)\n",
    "\n",
    "\n",
    "\n",
    "\n"
   ]
  },
  {
   "cell_type": "code",
   "execution_count": 5,
   "metadata": {},
   "outputs": [
    {
     "name": "stdout",
     "output_type": "stream",
     "text": [
      "LangChain is a web-based language learning platform that utilizes a combination of natural language processing (NLP) and machine learning algorithms to facilitate effective language learning. Here are five detailed and distinct use cases for LangChain:\n",
      "\n",
      "**Use Case 1: Personalized Language Learning**\n",
      "\n",
      "LangChain's AI-powered system analyzes users' speaking and writing habits, providing personalized feedback and recommendations for improvement. The platform uses NLP techniques to identify areas of strength and weakness in the user's language skills, suggesting tailored exercises and activities to help them build confidence and proficiency. For example, if a user is struggling with verb conjugation, LangChain might offer interactive exercises that focus on this specific skill.\n",
      "\n",
      "**Use Case 2: Language Exchange and Practice**\n",
      "\n",
      "LangChain enables users to connect with native speakers or other learners of the same language for real-time language exchange and practice. The platform's chat feature allows users to start conversations in their target language, which can be followed by automated translation tools that provide accurate and up-to-date translations. This feature helps users improve their speaking and listening skills, as well as build confidence in using the language in different contexts.\n",
      "\n",
      "**Use Case 3: Grammar and Vocabulary Building**\n",
      "\n",
      "LangChain's comprehensive grammar and vocabulary modules use interactive exercises, quizzes, and games to help users learn complex concepts and build their knowledge of specific languages. The platform's AI-powered system analyzes user responses and adjusts the difficulty level of exercises accordingly, ensuring that learning is engaging and effective. For example, if a user struggles with verb tenses, LangChain might offer personalized lessons on how to use past simple, present perfect, and future tense correctly.\n",
      "\n",
      "**Use Case 4: Reading Comprehension and Text Analysis**\n",
      "\n",
      "LangChain's text analysis feature uses NLP techniques to analyze users' reading comprehension skills, identifying areas of strength and weakness. The platform then provides personalized recommendations for improving these skills, including suggestions for articles, books, or other written materials that can help users build their vocabulary and understanding of the language. For example, if a user struggles with following complex sentences, LangChain might offer interactive exercises that focus on identifying grammatical structures and relationships between words.\n",
      "\n",
      "**Use Case 5: Speech Recognition and Pronunciation**\n",
      "\n",
      "LangChain's speech recognition feature uses audio input from users' devices to transcribe their spoken language into text. The platform then provides feedback on pronunciation, suggesting corrections and recommendations for improving the user's accent or intonation. This feature is particularly useful for learners who struggle with speaking and listening skills, as it allows them to practice their pronunciation in a controlled\n"
     ]
    }
   ],
   "source": [
    "\n",
    "# Invoke the model with the formatted prompt\n",
    "response = llm.invoke(formatted_prompt)\n",
    "\n",
    "# Print the response content\n",
    "print(response.content)"
   ]
  },
  {
   "cell_type": "code",
   "execution_count": null,
   "metadata": {},
   "outputs": [
    {
     "name": "stdout",
     "output_type": "stream",
     "text": [
      "LangChain is a powerful, open-source, and multi-chain Ethereum-based application that enables the creation of decentralized applications (dApps) with multiple chains. Here are five detailed and distinct use cases for LangChain:\n",
      "\n",
      "**Use Case 1: Cross-Chain Development**\n",
      "\n",
      "LangChain allows developers to create cross-chain dApps by leveraging its ability to interact with multiple chains using a single interface. This enables developers to build scalable, interoperable applications that can interact with different blockchain networks, such as Ethereum, Binance Smart Chain (BSC), and Solana. With LangChain, developers can:\n",
      "\n",
      "* Create a single application that supports multiple chains\n",
      "* Use a single programming language (e.g., Solidity) for development across all chains\n",
      "* Leverage the strengths of each chain to build a robust, scalable dApp\n",
      "\n",
      "For example, a developer might create an e-commerce platform using LangChain, allowing users to buy and sell goods on different blockchain networks.\n",
      "\n",
      "**Use Case 2: Decentralized Finance (DeFi)**\n",
      "\n",
      "LangChain's ability to interact with multiple chains makes it an ideal choice for decentralized finance (DeFi) applications. DeFi platforms aim to provide a secure, transparent, and efficient way to lend, borrow, and trade assets across different blockchain networks. LangChain enables DeFi developers to:\n",
      "\n",
      "* Create smart contracts that interact with multiple chains\n",
      "* Leverage the strengths of each chain to build robust, scalable DeFi applications\n",
      "* Use a single programming language for development across all chains\n",
      "\n",
      "For instance, a DeFi developer might create a lending platform using LangChain, allowing users to lend and borrow assets on different blockchain networks.\n",
      "\n",
      "**Use Case 3: Gaming**\n",
      "\n",
      "LangChain's ability to interact with multiple chains makes it an attractive choice for gaming applications. Gaming developers can leverage the strengths of each chain to build robust, scalable games that can run on various platforms. With LangChain, developers can:\n",
      "\n",
      "* Create a single game that supports multiple chains\n",
      "* Use a single programming language (e.g., Solidity) for development across all chains\n",
      "* Leverage the features of each chain to create a more engaging gaming experience\n",
      "\n",
      "For example, a gaming developer might create a multiplayer online battle arena (MOBA) game using LangChain, allowing players to compete on different blockchain networks.\n",
      "\n",
      "**Use Case 4: Social Network**\n",
      "\n",
      "LangChain's ability to interact with multiple chains makes it an ideal choice for social network applications. Social network developers can leverage the strengths of each chain to build robust, scalable social platforms that can run on various\n"
     ]
    }
   ],
   "source": [
    "# Alternatively, you can use the prompt_template as a chain using LCEL\n",
    "\n",
    "# Create chain\n",
    "chain = (\n",
    "     prompt_template\n",
    "    | llm\n",
    ")\n",
    "# Invoke the chain\n",
    "response = chain.invoke({\"topic\": \"langchain\", \"number\": 5})\n",
    "print(response.content)"
   ]
  },
  {
   "cell_type": "markdown",
   "metadata": {},
   "source": [
    "## Method 2. Creating a PromptTemplate Object with Explicit Input Variables\n",
    "The code creates a `PromptTemplate` object and a prompt simultaneously by directly defining the template string and input variables in the constructor of the `PromptTemplate` class. Unlike the `from_template()` method, which is a convenience method for creating a `PromptTemplate` object from a single template string, this approach provides more flexibility by allowing you to explicitly specify the `input_variables` and other parameters during initialization.\n",
    "\n",
    "This method is particularly useful when you want to define additional attributes or customize the behavior of the `PromptTemplate` object beyond what the `from_template()` method offers.\n",
    "\n"
   ]
  },
  {
   "cell_type": "code",
   "execution_count": 10,
   "metadata": {},
   "outputs": [
    {
     "data": {
      "text/plain": [
       "PromptTemplate(input_variables=['number', 'topic'], input_types={}, partial_variables={}, template='Please explain {topic} using exactly {number} detailed and distinct use cases.')"
      ]
     },
     "execution_count": 10,
     "metadata": {},
     "output_type": "execute_result"
    }
   ],
   "source": [
    "# Define template\n",
    "template = \"Please explain {topic} using exactly {number} detailed and distinct use cases.\"\n",
    "\n",
    "# Create a prompt template with `PromptTemplate` object\n",
    "prompt = PromptTemplate(\n",
    "    template=template,\n",
    "    input_variables=[\"topic\", \"number\"],\n",
    ")\n",
    "prompt"
   ]
  },
  {
   "cell_type": "code",
   "execution_count": 13,
   "metadata": {},
   "outputs": [
    {
     "data": {
      "text/plain": [
       "StringPromptValue(text='Please explain langchain using exactly 5 detailed and distinct use cases.')"
      ]
     },
     "execution_count": 13,
     "metadata": {},
     "output_type": "execute_result"
    }
   ],
   "source": [
    "# Create prompt\n",
    "# Format the prompt by providing values for the placeholders\n",
    "formatted_prompt = prompt.invoke({\"topic\": \"langchain\", \"number\": 5})\n",
    "formatted_prompt"
   ]
  },
  {
   "cell_type": "code",
   "execution_count": 14,
   "metadata": {},
   "outputs": [
    {
     "name": "stdout",
     "output_type": "stream",
     "text": [
      "LangChain is an open-source, stateless, and highly scalable conversational AI platform developed by Google. It allows developers to build and deploy conversational interfaces for various applications, including chatbots, voice assistants, and messaging platforms. Here are five detailed and distinct use cases for LangChain:\n",
      "\n",
      "**Use Case 1: Conversational Chatbot**\n",
      "\n",
      "LangChain can be used as a building block for creating conversational chatbots that engage users in natural language conversations. Developers can train the model to understand context, intent, and nuance, allowing it to respond accurately and effectively. For example, a customer support chatbot built with LangChain can have its own conversation flow, where it asks follow-up questions or provides relevant information based on user input.\n",
      "\n",
      "To implement this use case, developers would need to:\n",
      "\n",
      "* Train the model using a dataset of labeled conversations\n",
      "* Define the conversation flow and intent-based responses\n",
      "* Integrate the trained model into their chatbot application\n",
      "\n",
      "**Use Case 2: Voice Assistant**\n",
      "\n",
      "LangChain can be used to build voice assistants that interact with users through spoken language. These assistants can be integrated into various platforms, such as smart home devices or mobile apps, to provide hands-free and voice-controlled experiences.\n",
      "\n",
      "To implement this use case, developers would need to:\n",
      "\n",
      "* Integrate the LangChain model with a speech recognition engine\n",
      "* Define the conversation flow and intent-based responses for voice commands\n",
      "* Train the model on a dataset of labeled conversations\n",
      "\n",
      "**Use Case 3: Messaging Platform**\n",
      "\n",
      "LangChain can be used as a building block for creating messaging platforms that enable users to interact with each other through text-based conversations. These platforms can be integrated into various applications, such as social media or online forums.\n",
      "\n",
      "To implement this use case, developers would need to:\n",
      "\n",
      "* Train the model using a dataset of labeled conversations\n",
      "* Define the conversation flow and intent-based responses for user interactions\n",
      "* Integrate the trained model with the messaging platform's API\n",
      "\n",
      "**Use Case 4: Knowledge Graph**\n",
      "\n",
      "LangChain can be used as a building block for creating knowledge graphs that store and retrieve information on various topics. These graphs can be integrated into applications, such as search engines or content management systems.\n",
      "\n",
      "To implement this use case, developers would need to:\n",
      "\n",
      "* Train the model using a dataset of labeled conversations\n",
      "* Define the structure and relationships of the knowledge graph\n",
      "* Integrate the trained model with the application's data storage system\n",
      "\n",
      "**Use Case 5: Emotional Intelligence**\n",
      "\n",
      "LangChain can be used as a building block for creating emotional intelligence systems\n"
     ]
    }
   ],
   "source": [
    "# Invoke the model with the formatted prompt\n",
    "response = llm.invoke(formatted_prompt)\n",
    "\n",
    "# Print the response content\n",
    "print(response.content)"
   ]
  },
  {
   "cell_type": "code",
   "execution_count": 12,
   "metadata": {},
   "outputs": [
    {
     "name": "stdout",
     "output_type": "stream",
     "text": [
      "LangChain is a blockchain-based conversational AI platform that enables developers to build highly interactive and dynamic chatbots, voice assistants, and other conversational interfaces. Here are five detailed and distinct use cases for LangChain:\n",
      "\n",
      "**Use Case 1: Virtual Wardrobe Management System**\n",
      "\n",
      "In this use case, LangChain can be used to create a virtual wardrobe management system where users can upload images of their clothing items, add descriptions, and assign tags or categories to each item. The platform can then generate a personalized shopping list based on the user's preferences and the items they have in their wardrobe.\n",
      "\n",
      "LangChain's blockchain technology ensures that all data is tamper-proof and transparent, allowing users to trust the system with sensitive information like fashion choices. Additionally, the platform's AI-powered recommendation engine suggests outfit combinations and accessories based on the user's style and preferences.\n",
      "\n",
      "**Use Case 2: Personalized Product Recommendations**\n",
      "\n",
      "In this use case, LangChain can be used to build a product recommendation engine that analyzes customer purchase history and browsing behavior to suggest relevant products. The platform can integrate with e-commerce platforms like Amazon or eBay to retrieve product information and generate personalized recommendations.\n",
      "\n",
      "LangChain's blockchain-based data storage ensures that all product information is secure and immutable, allowing for accurate tracking of changes and updates. Additionally, the platform's AI-powered recommendation engine takes into account user preferences, behavior, and demographic data to provide highly targeted suggestions.\n",
      "\n",
      "**Use Case 3: Smart Home Automation**\n",
      "\n",
      "In this use case, LangChain can be used to create a smart home automation system that integrates with various devices and services. Users can control their smart home appliances, lighting, and security systems using a single interface, while LangChain's blockchain technology ensures secure data storage and management.\n",
      "\n",
      "LangChain's AI-powered natural language processing (NLP) capabilities enable the platform to understand user voice commands and translate them into actions on the smart home devices. Additionally, the platform can integrate with popular smart home platforms like Philips Hue or Nest to provide a seamless user experience.\n",
      "\n",
      "**Use Case 4: Mental Health Chatbots**\n",
      "\n",
      "In this use case, LangChain can be used to build mental health chatbots that provide empathetic support and guidance to users struggling with anxiety, depression, or other mental health issues. The platform's AI-powered NLP capabilities enable the chatbot to understand user emotions and respond accordingly.\n",
      "\n",
      "LangChain's blockchain-based data storage ensures secure and tamper-proof data management, allowing for accurate tracking of user interactions and insights into user behavior. Additionally, the platform's built-in mood analysis feature provides\n"
     ]
    }
   ],
   "source": [
    " # Alternatively, you can use the prompt_template as a chain using LCEL\n",
    "chain = (\n",
    "    prompt\n",
    "    | llm\n",
    ")\n",
    "# Invoke the chain\n",
    "response = chain.invoke({\"topic\": \"langchain\", \"number\": 5})\n",
    "print(response.content)"
   ]
  }
 ],
 "metadata": {
  "kernelspec": {
   "display_name": "Python 3",
   "language": "python",
   "name": "python3"
  },
  "language_info": {
   "codemirror_mode": {
    "name": "ipython",
    "version": 3
   },
   "file_extension": ".py",
   "mimetype": "text/x-python",
   "name": "python",
   "nbconvert_exporter": "python",
   "pygments_lexer": "ipython3",
   "version": "3.12.4"
  }
 },
 "nbformat": 4,
 "nbformat_minor": 2
}
