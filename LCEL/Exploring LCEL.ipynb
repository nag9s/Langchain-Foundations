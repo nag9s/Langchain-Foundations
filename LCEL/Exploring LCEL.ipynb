{
 "cells": [
  {
   "cell_type": "markdown",
   "metadata": {},
   "source": [
    "# Exploring LangChain Expression Language (LCEL)\n",
    "LCEL (LangChain Expression Language) is a declarative way to compose chains in LangChain that allows you to describe what should happen, rather than how it should happen.\n",
    "\n",
    "``` python\n",
    "# Old approach (imperative)\n",
    "formatted_prompt = prompt_template.format(topic=\"langchain\", number=2)\n",
    "response = llm.invoke(formatted_prompt)\n",
    "\n",
    "# LCEL approach (declarative)\n",
    "chain = prompt | llm\n",
    "response = chain.invoke({\"topic\": \"langchain\", \"number\": 2})\n",
    "```\n",
    "| **Aspect**               | **Declarative Programming (LCEL Approach)**                          | **Imperative Programming**                          |\n",
    "|---------------------------|------------------------------------------------------------------------|----------------------------------------------------|\n",
    "| **Focus**                | Describes WHAT should happen                                           | Describes HOW something should happen             |\n",
    "| **Characteristics**      | - Defines the desired outcome                                         | - Explicitly defines each step of execution       |\n",
    "|                           | - Abstracts away implementation details                              | - Programmer controls exact flow                  |\n",
    "|                           | - More concise and readable                                          | - More verbose                                    |\n",
    "|                           | - Allows framework to optimize execution                             | - Requires manual management of intermediate steps|\n",
    "\n",
    "\n",
    "#### What Makes a \"Chain\"\n",
    "\n",
    "When we say a \"Runnable\" created using LCEL is a \"chain\", it means:\n",
    "\n",
    "- It's a **Runnable object**.\n",
    "- It fully implements the **Runnable Interface**.\n",
    "- It can be used just like any other **Runnable component**.\n",
    "\n",
    "https://python.langchain.com/docs/concepts/lcel/ \n",
    "\n",
    "More details later .."
   ]
  },
  {
   "cell_type": "code",
   "execution_count": null,
   "metadata": {},
   "outputs": [],
   "source": [
    "#from dotenv import load_dotenv\n",
    "\n",
    "# load_dotenv('../env')"
   ]
  },
  {
   "cell_type": "code",
   "execution_count": 2,
   "metadata": {},
   "outputs": [],
   "source": [
    "from langchain_ollama import ChatOllama\n",
    "\n",
    "base_url = \"http://localhost:11434\"\n",
    "model = 'llama3.2:1b'\n",
    "llm = ChatOllama(\n",
    "    base_url=base_url,\n",
    "    model=model,\n",
    "    temperature=0.5,\n",
    "    num_predict=512\n",
    "    #timeout=None,\n",
    "    # max_retries=2,\n",
    "    # api_key=\"...\",  # if you prefer to pass api key in directly instaed of using env vars\n",
    "   \n",
    ")"
   ]
  },
  {
   "cell_type": "code",
   "execution_count": null,
   "metadata": {},
   "outputs": [
    {
     "name": "stdout",
     "output_type": "stream",
     "text": [
      "LangChain is a cutting-edge, open-source library developed by the Langchain team that enables the creation of decentralized, self-sustaining, and highly scalable blockchain-like networks. It allows developers to build and manage complex applications on top of a blockchain without requiring extensive knowledge of blockchain technology.\n",
      "\n",
      "Here are two detailed and distinct use cases for LangChain:\n",
      "\n",
      "**Use Case 1: Decentralized Finance (DeFi) Applications**\n",
      "\n",
      "LangChain can be used to build decentralized finance (DeFi) applications that provide users with access to a wide range of financial services, such as lending, borrowing, trading, and investing. One possible use case is the development of a decentralized exchange (DEX) for cryptocurrencies.\n",
      "\n",
      "In this scenario, developers would create a LangChain-based DEX that allows users to trade cryptocurrencies without relying on centralized exchanges or intermediaries. The DEX would be built using LangChain's smart contract functionality, enabling it to execute trades and manage user assets in a secure and efficient manner.\n",
      "\n",
      "For example, the DEX could use LangChain's built-in support for tokenized assets, allowing users to trade tokens that represent ownership of specific cryptocurrencies or other digital assets. The DEX would also utilize LangChain's advanced analytics and risk management features to identify potential trading opportunities and mitigate risks associated with cryptocurrency markets.\n",
      "\n",
      "**Use Case 2: Supply Chain Management**\n",
      "\n",
      "LangChain can be used to build a decentralized supply chain management system for companies in various industries, such as food, pharmaceuticals, or electronics. One possible use case is the development of a blockchain-based platform for tracking and verifying the authenticity of goods throughout their lifecycle.\n",
      "\n",
      "In this scenario, developers would create a LangChain-based platform that enables suppliers, manufacturers, and distributors to share data about the origin, quality, and movement of goods. The platform would utilize LangChain's advanced data management capabilities to store and manage large amounts of data in a secure and decentralized manner.\n",
      "\n",
      "The platform could also use LangChain's smart contract functionality to automate various processes, such as payment processing, inventory management, and shipping logistics. Additionally, the platform could integrate with existing supply chain management systems to provide a seamless user experience for stakeholders.\n",
      "\n",
      "For example, the platform could be used by a food manufacturer to track the origin of its ingredients, verify their quality, and ensure compliance with regulatory requirements. The platform would also enable the manufacturer to share this information with suppliers, distributors, and customers in real-time, reducing the risk of contamination or mislabeling.\n",
      "\n",
      "In both use cases, LangChain's decentralized architecture and advanced smart contract capabilities provide\n"
     ]
    }
   ],
   "source": [
    "# Imperative approach\n",
    "# Explicitly define step-by-step instructions\n",
    "from langchain.prompts import PromptTemplate\n",
    "\n",
    "# Step 1 Create a PromptTemplate\n",
    "prompt_template = PromptTemplate(\n",
    "    input_variables=[\"topic\", \"number\"],\n",
    "    template=\"Please explain {topic} using exactly {number} detailed and distinct use cases.\"\n",
    ")\n",
    "\n",
    "# Step 2 Format the prompt with dynamic values\n",
    "formatted_prompt = prompt_template.format(topic=\"langchain\", number=2)\n",
    "\n",
    "# Step 3 Invoke the model with the formatted prompt\n",
    "response = llm.invoke(formatted_prompt)\n",
    "\n",
    "# Print the response content\n",
    "print(response.content)"
   ]
  },
  {
   "cell_type": "code",
   "execution_count": null,
   "metadata": {},
   "outputs": [
    {
     "name": "stdout",
     "output_type": "stream",
     "text": [
      "LangChain is a web-based AI tool that enables developers to create conversational interfaces for their applications, allowing users to interact with AI models in a more natural way. Here are two detailed and distinct use cases of LangChain:\n",
      "\n",
      "**Use Case 1: Conversational Chatbots**\n",
      "\n",
      "LangChain can be used to build conversational chatbots that enable users to engage in natural-sounding conversations with the AI model. For example, imagine building a chatbot that helps customers with their queries about products or services. With LangChain, you can create a conversational interface that uses NLP and machine learning algorithms to understand user input and respond accordingly.\n",
      "\n",
      "Here's an outline of how it works:\n",
      "\n",
      "1. You define the conversation flow using natural language processing (NLP) rules and intents.\n",
      "2. The chatbot is trained on a dataset of user inputs and responses, which are used to fine-tune the model's performance.\n",
      "3. When a user interacts with the chatbot, LangChain processes their input and determines the relevant intent or question.\n",
      "4. The chatbot responds accordingly, using the trained model to generate a response.\n",
      "\n",
      "For example, if a user asks \"What is the price of our product?\", the chatbot might respond with \"Our current price for this product is $99.99.\" LangChain's NLP capabilities enable it to understand the intent behind the question and provide a relevant response.\n",
      "\n",
      "**Use Case 2: Language Translation and Generation**\n",
      "\n",
      "LangChain can also be used to build language translation and generation systems, enabling users to interact with AI models in multiple languages. For instance, imagine building a platform that allows users to translate text or generate human-sounding responses in different languages.\n",
      "\n",
      "Here's an outline of how it works:\n",
      "\n",
      "1. You define the language pairs you want to support using NLP and machine learning algorithms.\n",
      "2. The LangChain model is trained on a dataset of translated texts and generated responses, which are used to fine-tune the model's performance.\n",
      "3. When a user requests translation or generation, LangChain processes their input and determines the relevant language pair.\n",
      "4. The AI model generates a response in the selected language, using the trained model to generate human-sounding text.\n",
      "\n",
      "For example, if a user asks \"Hello, how are you?\", LangChain's NLP capabilities enable it to understand the intent behind the question and respond accordingly in the target language (e.g., Spanish).\n"
     ]
    }
   ],
   "source": [
    "# LCEL approach (declarative)\n",
    "# Describe the desired outcome, letting the framework handle implementation details\n",
    "# Compose the chain using LCEL pipe operator\n",
    "chain = (\n",
    "    prompt_template \n",
    "    | llm\n",
    ")\n",
    "\n",
    "# Invoke the chain with input values\n",
    "response = chain.invoke({\n",
    "    \"topic\": \"langchain\", \n",
    "    \"number\": 2\n",
    "})\n",
    "\n",
    "# Print the response content\n",
    "print(response.content)\n"
   ]
  }
 ],
 "metadata": {
  "kernelspec": {
   "display_name": "Python 3",
   "language": "python",
   "name": "python3"
  },
  "language_info": {
   "codemirror_mode": {
    "name": "ipython",
    "version": 3
   },
   "file_extension": ".py",
   "mimetype": "text/x-python",
   "name": "python",
   "nbconvert_exporter": "python",
   "pygments_lexer": "ipython3",
   "version": "3.12.4"
  }
 },
 "nbformat": 4,
 "nbformat_minor": 2
}
