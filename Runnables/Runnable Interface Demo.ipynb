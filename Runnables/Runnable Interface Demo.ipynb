{
 "cells": [
  {
   "cell_type": "markdown",
   "id": "2731205e",
   "metadata": {},
   "source": [
    "\n",
    "\n",
    "# Runnables: Definition and Characteristics  \n",
    "A Runnable is a fundamental unit in LangChain that provides a standard interface for various components with the following key capabilities:\n",
    "\n",
    "### Core Characteristics of Runnables  \n",
    "A unit of work that can be:  \n",
    "- **Invoked** (transform a single input into an output)  \n",
    "- **Batched** (transform multiple inputs efficiently)  \n",
    "- **Streamed** (produce outputs incrementally)  \n",
    "- **Composed** (combined with other Runnables)  \n",
    "\n",
    "### Composition Primitives  \n",
    "LangChain provides two main composition primitives for creating Runnables:  \n",
    "\n",
    "#### 1. RunnableSequence  \n",
    "- Allows chaining multiple Runnables sequentially  \n",
    "- The output of one Runnable becomes the input for the next  \n",
    "- Can be created using the pipe operator (`|`) or explicitly with `RunnableSequence`  \n",
    "\n",
    "**Example:**  \n",
    "```python\n",
    "chain = runnable1 | runnable2  # Sequential execution\n",
    "# Output of runnable1 feeds into runnable2\n",
    "```\n",
    "\n",
    "#### 2. RunnableParallel  \n",
    "- Runs multiple Runnables concurrently with the same input  \n",
    "- Returns a dictionary with results from each Runnable  \n",
    "- Executes Runnables in parallel, significantly reducing processing time  \n",
    "\n",
    "**Example:**  \n",
    "```python\n",
    "parallel_chain = RunnableParallel({\n",
    "    \"key1\": runnable1,\n",
    "    \"key2\": runnable2\n",
    "})\n",
    "# Both runnables run concurrently with the same input\n",
    "```\n",
    "\n",
    "### Additional Composition Features  \n",
    "- Automatic type coercion (functions become `RunnableLambda`, dictionaries become `RunnableParallel`)  \n",
    "- Support for async and sync execution  \n",
    "- Optimized parallel processing using thread pools  \n",
    "\n",
    "### Benefits of LCEL Composition  \n",
    "- Optimized parallel execution  \n",
    "- Guaranteed async support  \n",
    "- Simplified streaming  \n",
    "- Seamless tracing with LangSmith  \n",
    "- Standard API across different components  \n"
   ]
  },
  {
   "cell_type": "code",
   "execution_count": null,
   "id": "865537f2",
   "metadata": {},
   "outputs": [],
   "source": [
    "#from dotenv import load_dotenv\n",
    "\n",
    "#load_dotenv('../env')"
   ]
  },
  {
   "cell_type": "code",
   "execution_count": null,
   "id": "e5ab80d7",
   "metadata": {},
   "outputs": [],
   "source": [
    "from langchain_ollama import ChatOllama\n",
    "\n",
    "base_url = \"http://localhost:11434\"\n",
    "model = 'llama3.2:1b'\n",
    "llm = ChatOllama(\n",
    "    base_url=base_url,\n",
    "    model=model,\n",
    "    temperature=0.5,\n",
    "    num_predict=512\n",
    ")"
   ]
  },
  {
   "cell_type": "markdown",
   "id": "5efcbc7b",
   "metadata": {},
   "source": [
    "# Runnable Interface Demo"
   ]
  },
  {
   "cell_type": "code",
   "execution_count": null,
   "id": "760a49d0",
   "metadata": {},
   "outputs": [],
   "source": [
    "from langchain.prompts import PromptTemplate\n",
    "prompt_template = PromptTemplate(\n",
    "    input_variables=[\"topic\", \"number\"],\n",
    "    template=\"Please explain {topic} using exactly {number} detailed and distinct use cases.\"\n",
    ")\n",
    "\n",
    "chain = (\n",
    "    prompt_template \n",
    "    | llm\n",
    ")\n",
    "type(chain)\n"
   ]
  },
  {
   "cell_type": "code",
   "execution_count": null,
   "id": "d9713129",
   "metadata": {},
   "outputs": [],
   "source": [
    "chain"
   ]
  },
  {
   "cell_type": "code",
   "execution_count": null,
   "id": "8531410a",
   "metadata": {},
   "outputs": [],
   "source": [
    "# Invoke the chain with input values\n",
    "response = chain.invoke({\n",
    "    \"topic\": \"langchain\", \n",
    "    \"number\": 2\n",
    "})\n",
    "\n",
    "# Print the response content\n",
    "print(response.content)"
   ]
  },
  {
   "cell_type": "code",
   "execution_count": null,
   "id": "9e0d5552",
   "metadata": {},
   "outputs": [],
   "source": []
  },
  {
   "cell_type": "markdown",
   "id": "f4e17e16",
   "metadata": {},
   "source": [
    "\n",
    "### Additional Examples of Runnable Interface Methods\n",
    "\n",
    "#### 1. Batch Processing\n",
    "The `batch_transaction_analysis` function demonstrates how to process multiple transactions simultaneously using the `batch` method of the `transaction_chain`. This is particularly useful for analyzing large datasets efficiently.\n",
    "\n",
    "#### 2. Single Invoke\n",
    "The `single_transaction_invoke` function showcases the `invoke` method, which processes a single transaction input. This is ideal for scenarios where individual transaction analysis is required.\n",
    "\n",
    "#### 3. Streaming Transaction Processing\n",
    "The `stream_transaction_processing` function illustrates the `stream` method, which processes transactions incrementally and outputs results in real-time. This is beneficial for handling high-value or time-sensitive transactions.\n"
   ]
  },
  {
   "cell_type": "markdown",
   "id": "464be842",
   "metadata": {},
   "source": [
    "## Create a prompt template for transaction analysis"
   ]
  },
  {
   "cell_type": "code",
   "execution_count": null,
   "id": "5ea20969",
   "metadata": {},
   "outputs": [],
   "source": [
    "prompt = ChatPromptTemplate.from_template(\n",
    "    \"Analyze the following payment transaction and provide insights: {transaction}\"\n",
    ")"
   ]
  },
  {
   "cell_type": "markdown",
   "id": "074939ab",
   "metadata": {},
   "source": [
    "## Define a function to process transaction details"
   ]
  },
  {
   "cell_type": "code",
   "execution_count": null,
   "id": "74b4a2d5",
   "metadata": {},
   "outputs": [],
   "source": [
    "def process_transaction_details(transaction):\n",
    "    \"\"\"\n",
    "    Simulate additional transaction processing logic\n",
    "    In a real-world scenario, this might involve:\n",
    "    - Fraud detection checks\n",
    "    - Compliance verification\n",
    "    - Additional metadata enrichment\n",
    "    \"\"\"\n",
    "    return f\"Processed transaction: {transaction}\""
   ]
  },
  {
   "cell_type": "markdown",
   "id": "d4bf14ff",
   "metadata": {},
   "source": [
    "## Construct the processing chain\n",
    "The processing chain is constructed by combining multiple Runnables sequentially. The `transaction_chain` is built using the following components:\n",
    "\n",
    "1. **Prompt Template (`prompt`)**: This defines the structure of the input prompt for analyzing transactions. It ensures that the input transaction details are formatted appropriately for the LLM.\n",
    "\n",
    "2. **LLM (`llm`)**: The language model processes the formatted prompt and generates insights or analysis based on the transaction details.\n",
    "\n",
    "3. **Processing Function (`process_transaction_details`)**: This function applies additional logic to the LLM's output, such as simulating fraud detection, compliance checks, or metadata enrichment.\n",
    "\n",
    "The chain is created using the pipe operator (`|`), which sequentially connects these components. The output of one component becomes the input for the next, enabling streamlined and modular processing of transaction data.\n"
   ]
  },
  {
   "cell_type": "code",
   "execution_count": null,
   "id": "ffbcc7ba",
   "metadata": {},
   "outputs": [],
   "source": [
    "transaction_chain = (\n",
    "    prompt |  # Apply the prompt template\n",
    "    llm |  # Generate analysis using LLM\n",
    "    process_transaction_details  # Additional processing\n",
    ")"
   ]
  },
  {
   "cell_type": "code",
   "execution_count": null,
   "id": "a5b77f10",
   "metadata": {},
   "outputs": [],
   "source": [
    "transaction_chain"
   ]
  },
  {
   "cell_type": "markdown",
   "id": "ee40ab11",
   "metadata": {},
   "source": [
    "## Demonstration of different Runnable Interface methods"
   ]
  },
  {
   "cell_type": "markdown",
   "id": "902ddac2",
   "metadata": {},
   "source": [
    "### 1. Batch Processing\n",
    "The `batch_transaction_analysis` function demonstrates how to process multiple transactions simultaneously using the `batch` method of the `transaction_chain`. This method is particularly useful for analyzing large datasets efficiently. The function takes a list of transactions, processes them in a batch, and prints the analysis results for each transaction.\n"
   ]
  },
  {
   "cell_type": "code",
   "execution_count": null,
   "id": "f02ab6c2",
   "metadata": {},
   "outputs": [],
   "source": [
    "def batch_transaction_analysis():\n",
    "    print(\"--- Batch Processing Transactions ---\")\n",
    "    transactions = [\n",
    "        \"Credit card payment of $500 from customer ABC\",\n",
    "        \"International wire transfer of $10,000\",\n",
    "        \"Recurring subscription payment of $49.99\"\n",
    "    ]\n",
    "    \n",
    "    # Batch process multiple transactions\n",
    "    batch_results = transaction_chain.batch(transactions)\n",
    "    \n",
    "    for i, result in enumerate(batch_results, 1):\n",
    "        print(f\"Transaction {i} Analysis: {result}\")"
   ]
  },
  {
   "cell_type": "markdown",
   "id": "fe3cc3fb",
   "metadata": {},
   "source": [
    "### 2. Single Invoke\n",
    "The `single_transaction_invoke` function demonstrates the `invoke` method of the `transaction_chain`. This method processes a single transaction input and generates an analysis result. It is particularly useful for scenarios where individual transaction analysis is required. The function takes a single transaction as input, invokes the chain, and prints the resulting analysis.\n"
   ]
  },
  {
   "cell_type": "code",
   "execution_count": null,
   "id": "4913990e",
   "metadata": {},
   "outputs": [],
   "source": [
    "def single_transaction_invoke():\n",
    "    print(\"\\n--- Single Transaction Invoke ---\")\n",
    "    transaction = \"Refund processing for order #12345\"\n",
    "    \n",
    "    # Invoke the chain for a single transaction\n",
    "    result = transaction_chain.invoke(transaction)\n",
    "    print(\"Transaction Analysis:\", result)"
   ]
  },
  {
   "cell_type": "markdown",
   "id": "f6f9d9ee",
   "metadata": {},
   "source": [
    "### 3. Streaming Transaction Processing\n",
    "The `stream_transaction_processing` function demonstrates the `stream` method of the `transaction_chain`. This method processes a transaction incrementally and outputs results in real-time. It is particularly useful for handling high-value or time-sensitive transactions. The function takes a single transaction as input, streams the analysis results chunk by chunk, and prints them as they are generated."
   ]
  },
  {
   "cell_type": "code",
   "execution_count": null,
   "id": "e3565aa6",
   "metadata": {},
   "outputs": [],
   "source": [
    "def stream_transaction_processing():\n",
    "    print(\"\\n--- Streaming Transaction Processing ---\")\n",
    "    transaction = \"High-value international payment of $250,000\"\n",
    "    \n",
    "    print(\"Streaming analysis for transaction:\")\n",
    "    for chunk in transaction_chain.stream(transaction):\n",
    "        print(chunk, end=\"\", flush=True)\n",
    "    print()  # New line after streaming"
   ]
  },
  {
   "cell_type": "code",
   "execution_count": null,
   "id": "02350892",
   "metadata": {},
   "outputs": [],
   "source": [
    "\n",
    "if __name__ == \"__main__\":\n",
    "    print(\"=== Batch Transaction Analysis ===\")\n",
    "    batch_transaction_analysis()\n",
    "\n",
    "    print(\"\\n=== Single Transaction Invoke ===\")\n",
    "    single_transaction_invoke()\n",
    "\n",
    "    print(\"\\n=== Streaming Transaction Processing ===\")\n",
    "    stream_transaction_processing()"
   ]
  }
 ],
 "metadata": {
  "kernelspec": {
   "display_name": "Python 3",
   "language": "python",
   "name": "python3"
  },
  "language_info": {
   "codemirror_mode": {
    "name": "ipython",
    "version": 3
   },
   "file_extension": ".py",
   "mimetype": "text/x-python",
   "name": "python",
   "nbconvert_exporter": "python",
   "pygments_lexer": "ipython3",
   "version": "3.12.4"
  }
 },
 "nbformat": 4,
 "nbformat_minor": 5
}
